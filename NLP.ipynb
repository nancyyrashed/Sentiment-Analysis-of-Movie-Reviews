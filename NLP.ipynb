{
 "cells": [
  {
   "cell_type": "markdown",
   "id": "b538764d",
   "metadata": {
    "id": "b538764d"
   },
   "source": [
    "## 1. Introduction"
   ]
  },
  {
   "cell_type": "markdown",
   "id": "b5a88012",
   "metadata": {
    "id": "b5a88012"
   },
   "source": [
    "### 1.1. Domain specific area"
   ]
  },
  {
   "cell_type": "markdown",
   "id": "a1f14f50",
   "metadata": {
    "id": "a1f14f50"
   },
   "source": [
    "The domain of debate was chosen to be sentiment analysis on the entertainment industry towards movie reviews. The task is quite challenging as textual feedback is to be classified to positive or negative sentiment categories, which can have important applications in recommendation systems, marketing, and consumer insight.\n",
    "\n",
    "As such, the study on sentiment analysis in the realm of Natural Language Processing (NLP) is a popular topic, because it is directly related to the understanding of public opinions in numerous industries. For example, Pang and Lee (2008) highlighted the importance of sentiment classification to enhance the customer centric applications. Sentiment analysis plays a huge role helping IMDb and other entertainment industry platforms give the personalized recommendations and to measure the audience reception. This process allows companies to automate their ability to analyze large scale data sets, recognizing trends and patterns that help guide decision making.\n",
    "\n",
    "This area is important because of the increasing importance of user generated content and the necessity for businesses to respond to real time feedback. Sentiment analysis delivers craftsmanship between human qualitative feedback and business quantitative strategies, and is a necessary component of today’s data analytics.\n",
    "\n",
    "Recent studies have further shown that advanced machine learning models can be easily applied in sentiment analysis task. (1) A 2024 example was a study presented to provide an approach using a deep learning model with hyperparameters optimisation and a new Rotten Tomatoes dataset to enhance performance for sentiment analysis and better help viewers with their movie choices.\n",
    "\n",
    "Furthermore, (2) a survey conducted in 2023 was also based on a comparison of sentiment analysis from film critics as machine learning, lexicon based and hybrid methods, showing progress in their methods of sentiment classification."
   ]
  },
  {
   "cell_type": "markdown",
   "id": "6e2eea53",
   "metadata": {
    "id": "6e2eea53"
   },
   "source": [
    "## 1.2. Objectives"
   ]
  },
  {
   "cell_type": "markdown",
   "id": "dd747979",
   "metadata": {
    "id": "dd747979"
   },
   "source": [
    "This project aims to make a text classifier that can label positive or negative to movie reviews with high accuracy. In this, we study both statistical and embedding based models to evaluate and apply them in text classification tasks.\n",
    "\n",
    "The project aims to build and compare between traditional statistical model (in particular, Naive Bayes) and an embedding based model (Logistic Regression using Word2Vec embeddings). The study assesses these models using standard classification metrics whcih are accuracy, precision, recall and F1-score to provide a complete understanding of their performance in sentiment analysis.\n",
    "\n",
    "It is important to understand the strengths and weaknesses of these models in order to pick the right techniques when performing sentiment classification tasks. For example, (3) embedding based models have demonstrated a capability of aggrandizing semantic relationship and contextual nuance better than the traditional bag of word approach, and successfully applied in text classification."
   ]
  },
  {
   "cell_type": "markdown",
   "id": "d75f2a4c",
   "metadata": {
    "id": "d75f2a4c"
   },
   "source": [
    "## 1.3. Dataset Description"
   ]
  },
  {
   "cell_type": "markdown",
   "id": "808c2e9b",
   "metadata": {
    "id": "808c2e9b"
   },
   "source": [
    "### Dataset Title:\n",
    "For this project, I used a dataset called ‘IMDB 50K Movie Reviews – Test Your BERT’, sourced from Kaggle.\n",
    "\n",
    "### Data Composition:\n",
    "#### Size:\n",
    "The dataset consists of 50,000 movie reviews divided into two CSV files:\n",
    "train.csv: It contains 25,000 movie reviews for training.\n",
    "test.csv: Has 25,000 movie reviews for testing purposes.\n",
    "\n",
    "#### Data Types:\n",
    "Textual Data: It consists of text format detailed movie review of each entry.\n",
    "Labels: Sentiment (positive or negative) of the review is labeled as \"negative\" or \"positive\" for each review.\n",
    "\n",
    "### Data Acquisition:\n",
    "The dataset was extracted from IMDb, a clout database of movies and television. it was curated in order to support sentiment analysis and other natural language processing tasks. The reviews are prelabeled, which makes the dataset suitable for supervised machine learning experiment.\n",
    "\n",
    "### Source:\n",
    "The dataset is freely available and hosted on Kaggle, the famous data science platform. You can discover the specific dataset on this URL https://www.kaggle.com/datasets/atulanandjha/imdb-50k-movie-reviews-test-your-bert"
   ]
  },
  {
   "cell_type": "markdown",
   "id": "17d677e2",
   "metadata": {
    "id": "17d677e2"
   },
   "source": [
    "## 4. Evaluation Methodology"
   ]
  },
  {
   "cell_type": "markdown",
   "id": "34829182",
   "metadata": {
    "id": "34829182"
   },
   "source": [
    "To evaluate the performance of the implemented models, five key metrics were utilized:\n",
    "\n",
    "#### Accuracy:\n",
    "as it measures the fraction of reviews that were correctly classified in the complete dataset giving a single measurement of model accuracy. Accuracy is a useful metric but won’t reflect performance when dealing with imbalanced datasets.\n",
    "\n",
    "$$\n",
    "\\text{Accuracy} = \\frac{True Positives(TP) + True Negatives(TN)}{True Positives(TP) + True Negatives(TN) + False Positives(FP) + False Negatives(FN)}\n",
    "$$\n",
    "\n",
    "#### Precision:\n",
    "is the ratio of correctly predicted positive vs predicted positives, indicating the reliability of the model in labeling a review positively. If false positives matter, this metric is particularly critical.\n",
    "\n",
    "$$\n",
    "\\text{Precision} = \\frac{True Positives(TP)}{True Positives(TP) + False Positives(FP)}\n",
    "$$\n",
    "\n",
    "#### Recall:\n",
    "also known as sensitivity, is calculated by just taking the number of correctly predicted positive reviews, and dividing it by the total actual positive reviews. For assessment of the model's skill in finding all positive (real) instances, it is essential.\n",
    "\n",
    "$$\n",
    "\\text{Recall} = \\frac{True Positives(TP)}{True Positives(TP) + False Negatives(FN)}\n",
    "$$\n",
    "\n",
    "#### F1-Score:\n",
    "Precision and recall are also taken as harmonic mean to define F1-Score, the overall measure that combines both false positives and false negatives. Specifically, it is well suited for comparing models in situations where tradeoff between precision and recall are important.\n",
    "\n",
    "$$\n",
    "\\text{F1 Score} = 2 \\cdot \\frac{\\text{Precision} \\cdot \\text{Recall}}{\\text{Precision} + \\text{Recall}}\n",
    "$$\n",
    "\n",
    "#### F2-Score:\n",
    "Where there are more false negatives than false positives (missed positive comparisons) compared to false positives (false positives), F2-Score has a high value, as it places more focus on recall over precision. In this regard, this metric shows an alternative way of assessing model performance in a particular context.\n",
    "\n",
    "$$\n",
    "\\text{F2 Score} = (1 + 2^2) \\cdot \\frac{\\text{Precision} \\cdot \\text{Recall}}{(2^2 \\cdot \\text{Precision}) + \\text{Recall}}\n",
    "$$"
   ]
  },
  {
   "cell_type": "markdown",
   "id": "475211d2",
   "metadata": {
    "id": "475211d2"
   },
   "source": [
    "## 2. Implementation"
   ]
  },
  {
   "cell_type": "markdown",
   "id": "5890d0b4",
   "metadata": {
    "id": "5890d0b4"
   },
   "source": [
    "### 2.1. Data preprocessing"
   ]
  },
  {
   "cell_type": "markdown",
   "id": "fd7df53a",
   "metadata": {
    "id": "fd7df53a"
   },
   "source": [
    "This section imports the libraries required for the project:"
   ]
  },
  {
   "cell_type": "code",
   "execution_count": 6,
   "id": "BvtYgcS-xhuH",
   "metadata": {
    "colab": {
     "base_uri": "https://localhost:8080/",
     "height": 73
    },
    "id": "BvtYgcS-xhuH",
    "outputId": "56fe0c2d-cd1e-4ad3-9746-d4d495395a4d"
   },
   "outputs": [
    {
     "data": {
      "text/html": [
       "\n",
       "     <input type=\"file\" id=\"files-0e46b41b-8313-4842-b186-621823aa2ca2\" name=\"files[]\" multiple disabled\n",
       "        style=\"border:none\" />\n",
       "     <output id=\"result-0e46b41b-8313-4842-b186-621823aa2ca2\">\n",
       "      Upload widget is only available when the cell has been executed in the\n",
       "      current browser session. Please rerun this cell to enable.\n",
       "      </output>\n",
       "      <script>// Copyright 2017 Google LLC\n",
       "//\n",
       "// Licensed under the Apache License, Version 2.0 (the \"License\");\n",
       "// you may not use this file except in compliance with the License.\n",
       "// You may obtain a copy of the License at\n",
       "//\n",
       "//      http://www.apache.org/licenses/LICENSE-2.0\n",
       "//\n",
       "// Unless required by applicable law or agreed to in writing, software\n",
       "// distributed under the License is distributed on an \"AS IS\" BASIS,\n",
       "// WITHOUT WARRANTIES OR CONDITIONS OF ANY KIND, either express or implied.\n",
       "// See the License for the specific language governing permissions and\n",
       "// limitations under the License.\n",
       "\n",
       "/**\n",
       " * @fileoverview Helpers for google.colab Python module.\n",
       " */\n",
       "(function(scope) {\n",
       "function span(text, styleAttributes = {}) {\n",
       "  const element = document.createElement('span');\n",
       "  element.textContent = text;\n",
       "  for (const key of Object.keys(styleAttributes)) {\n",
       "    element.style[key] = styleAttributes[key];\n",
       "  }\n",
       "  return element;\n",
       "}\n",
       "\n",
       "// Max number of bytes which will be uploaded at a time.\n",
       "const MAX_PAYLOAD_SIZE = 100 * 1024;\n",
       "\n",
       "function _uploadFiles(inputId, outputId) {\n",
       "  const steps = uploadFilesStep(inputId, outputId);\n",
       "  const outputElement = document.getElementById(outputId);\n",
       "  // Cache steps on the outputElement to make it available for the next call\n",
       "  // to uploadFilesContinue from Python.\n",
       "  outputElement.steps = steps;\n",
       "\n",
       "  return _uploadFilesContinue(outputId);\n",
       "}\n",
       "\n",
       "// This is roughly an async generator (not supported in the browser yet),\n",
       "// where there are multiple asynchronous steps and the Python side is going\n",
       "// to poll for completion of each step.\n",
       "// This uses a Promise to block the python side on completion of each step,\n",
       "// then passes the result of the previous step as the input to the next step.\n",
       "function _uploadFilesContinue(outputId) {\n",
       "  const outputElement = document.getElementById(outputId);\n",
       "  const steps = outputElement.steps;\n",
       "\n",
       "  const next = steps.next(outputElement.lastPromiseValue);\n",
       "  return Promise.resolve(next.value.promise).then((value) => {\n",
       "    // Cache the last promise value to make it available to the next\n",
       "    // step of the generator.\n",
       "    outputElement.lastPromiseValue = value;\n",
       "    return next.value.response;\n",
       "  });\n",
       "}\n",
       "\n",
       "/**\n",
       " * Generator function which is called between each async step of the upload\n",
       " * process.\n",
       " * @param {string} inputId Element ID of the input file picker element.\n",
       " * @param {string} outputId Element ID of the output display.\n",
       " * @return {!Iterable<!Object>} Iterable of next steps.\n",
       " */\n",
       "function* uploadFilesStep(inputId, outputId) {\n",
       "  const inputElement = document.getElementById(inputId);\n",
       "  inputElement.disabled = false;\n",
       "\n",
       "  const outputElement = document.getElementById(outputId);\n",
       "  outputElement.innerHTML = '';\n",
       "\n",
       "  const pickedPromise = new Promise((resolve) => {\n",
       "    inputElement.addEventListener('change', (e) => {\n",
       "      resolve(e.target.files);\n",
       "    });\n",
       "  });\n",
       "\n",
       "  const cancel = document.createElement('button');\n",
       "  inputElement.parentElement.appendChild(cancel);\n",
       "  cancel.textContent = 'Cancel upload';\n",
       "  const cancelPromise = new Promise((resolve) => {\n",
       "    cancel.onclick = () => {\n",
       "      resolve(null);\n",
       "    };\n",
       "  });\n",
       "\n",
       "  // Wait for the user to pick the files.\n",
       "  const files = yield {\n",
       "    promise: Promise.race([pickedPromise, cancelPromise]),\n",
       "    response: {\n",
       "      action: 'starting',\n",
       "    }\n",
       "  };\n",
       "\n",
       "  cancel.remove();\n",
       "\n",
       "  // Disable the input element since further picks are not allowed.\n",
       "  inputElement.disabled = true;\n",
       "\n",
       "  if (!files) {\n",
       "    return {\n",
       "      response: {\n",
       "        action: 'complete',\n",
       "      }\n",
       "    };\n",
       "  }\n",
       "\n",
       "  for (const file of files) {\n",
       "    const li = document.createElement('li');\n",
       "    li.append(span(file.name, {fontWeight: 'bold'}));\n",
       "    li.append(span(\n",
       "        `(${file.type || 'n/a'}) - ${file.size} bytes, ` +\n",
       "        `last modified: ${\n",
       "            file.lastModifiedDate ? file.lastModifiedDate.toLocaleDateString() :\n",
       "                                    'n/a'} - `));\n",
       "    const percent = span('0% done');\n",
       "    li.appendChild(percent);\n",
       "\n",
       "    outputElement.appendChild(li);\n",
       "\n",
       "    const fileDataPromise = new Promise((resolve) => {\n",
       "      const reader = new FileReader();\n",
       "      reader.onload = (e) => {\n",
       "        resolve(e.target.result);\n",
       "      };\n",
       "      reader.readAsArrayBuffer(file);\n",
       "    });\n",
       "    // Wait for the data to be ready.\n",
       "    let fileData = yield {\n",
       "      promise: fileDataPromise,\n",
       "      response: {\n",
       "        action: 'continue',\n",
       "      }\n",
       "    };\n",
       "\n",
       "    // Use a chunked sending to avoid message size limits. See b/62115660.\n",
       "    let position = 0;\n",
       "    do {\n",
       "      const length = Math.min(fileData.byteLength - position, MAX_PAYLOAD_SIZE);\n",
       "      const chunk = new Uint8Array(fileData, position, length);\n",
       "      position += length;\n",
       "\n",
       "      const base64 = btoa(String.fromCharCode.apply(null, chunk));\n",
       "      yield {\n",
       "        response: {\n",
       "          action: 'append',\n",
       "          file: file.name,\n",
       "          data: base64,\n",
       "        },\n",
       "      };\n",
       "\n",
       "      let percentDone = fileData.byteLength === 0 ?\n",
       "          100 :\n",
       "          Math.round((position / fileData.byteLength) * 100);\n",
       "      percent.textContent = `${percentDone}% done`;\n",
       "\n",
       "    } while (position < fileData.byteLength);\n",
       "  }\n",
       "\n",
       "  // All done.\n",
       "  yield {\n",
       "    response: {\n",
       "      action: 'complete',\n",
       "    }\n",
       "  };\n",
       "}\n",
       "\n",
       "scope.google = scope.google || {};\n",
       "scope.google.colab = scope.google.colab || {};\n",
       "scope.google.colab._files = {\n",
       "  _uploadFiles,\n",
       "  _uploadFilesContinue,\n",
       "};\n",
       "})(self);\n",
       "</script> "
      ],
      "text/plain": [
       "<IPython.core.display.HTML object>"
      ]
     },
     "metadata": {},
     "output_type": "display_data"
    },
    {
     "name": "stdout",
     "output_type": "stream",
     "text": [
      "Saving test.csv to test.csv\n"
     ]
    }
   ],
   "source": [
    "from google.colab import files\n",
    "\n",
    "\n",
    "uploaded = files.upload()\n"
   ]
  },
  {
   "cell_type": "code",
   "execution_count": 7,
   "id": "gVm5ONGIx4EG",
   "metadata": {
    "colab": {
     "base_uri": "https://localhost:8080/",
     "height": 73
    },
    "id": "gVm5ONGIx4EG",
    "outputId": "4bff5d8e-4501-4436-828f-96c689c6c03d"
   },
   "outputs": [
    {
     "data": {
      "text/html": [
       "\n",
       "     <input type=\"file\" id=\"files-74ec59bf-a51d-458f-b9e6-14c298a6e1d9\" name=\"files[]\" multiple disabled\n",
       "        style=\"border:none\" />\n",
       "     <output id=\"result-74ec59bf-a51d-458f-b9e6-14c298a6e1d9\">\n",
       "      Upload widget is only available when the cell has been executed in the\n",
       "      current browser session. Please rerun this cell to enable.\n",
       "      </output>\n",
       "      <script>// Copyright 2017 Google LLC\n",
       "//\n",
       "// Licensed under the Apache License, Version 2.0 (the \"License\");\n",
       "// you may not use this file except in compliance with the License.\n",
       "// You may obtain a copy of the License at\n",
       "//\n",
       "//      http://www.apache.org/licenses/LICENSE-2.0\n",
       "//\n",
       "// Unless required by applicable law or agreed to in writing, software\n",
       "// distributed under the License is distributed on an \"AS IS\" BASIS,\n",
       "// WITHOUT WARRANTIES OR CONDITIONS OF ANY KIND, either express or implied.\n",
       "// See the License for the specific language governing permissions and\n",
       "// limitations under the License.\n",
       "\n",
       "/**\n",
       " * @fileoverview Helpers for google.colab Python module.\n",
       " */\n",
       "(function(scope) {\n",
       "function span(text, styleAttributes = {}) {\n",
       "  const element = document.createElement('span');\n",
       "  element.textContent = text;\n",
       "  for (const key of Object.keys(styleAttributes)) {\n",
       "    element.style[key] = styleAttributes[key];\n",
       "  }\n",
       "  return element;\n",
       "}\n",
       "\n",
       "// Max number of bytes which will be uploaded at a time.\n",
       "const MAX_PAYLOAD_SIZE = 100 * 1024;\n",
       "\n",
       "function _uploadFiles(inputId, outputId) {\n",
       "  const steps = uploadFilesStep(inputId, outputId);\n",
       "  const outputElement = document.getElementById(outputId);\n",
       "  // Cache steps on the outputElement to make it available for the next call\n",
       "  // to uploadFilesContinue from Python.\n",
       "  outputElement.steps = steps;\n",
       "\n",
       "  return _uploadFilesContinue(outputId);\n",
       "}\n",
       "\n",
       "// This is roughly an async generator (not supported in the browser yet),\n",
       "// where there are multiple asynchronous steps and the Python side is going\n",
       "// to poll for completion of each step.\n",
       "// This uses a Promise to block the python side on completion of each step,\n",
       "// then passes the result of the previous step as the input to the next step.\n",
       "function _uploadFilesContinue(outputId) {\n",
       "  const outputElement = document.getElementById(outputId);\n",
       "  const steps = outputElement.steps;\n",
       "\n",
       "  const next = steps.next(outputElement.lastPromiseValue);\n",
       "  return Promise.resolve(next.value.promise).then((value) => {\n",
       "    // Cache the last promise value to make it available to the next\n",
       "    // step of the generator.\n",
       "    outputElement.lastPromiseValue = value;\n",
       "    return next.value.response;\n",
       "  });\n",
       "}\n",
       "\n",
       "/**\n",
       " * Generator function which is called between each async step of the upload\n",
       " * process.\n",
       " * @param {string} inputId Element ID of the input file picker element.\n",
       " * @param {string} outputId Element ID of the output display.\n",
       " * @return {!Iterable<!Object>} Iterable of next steps.\n",
       " */\n",
       "function* uploadFilesStep(inputId, outputId) {\n",
       "  const inputElement = document.getElementById(inputId);\n",
       "  inputElement.disabled = false;\n",
       "\n",
       "  const outputElement = document.getElementById(outputId);\n",
       "  outputElement.innerHTML = '';\n",
       "\n",
       "  const pickedPromise = new Promise((resolve) => {\n",
       "    inputElement.addEventListener('change', (e) => {\n",
       "      resolve(e.target.files);\n",
       "    });\n",
       "  });\n",
       "\n",
       "  const cancel = document.createElement('button');\n",
       "  inputElement.parentElement.appendChild(cancel);\n",
       "  cancel.textContent = 'Cancel upload';\n",
       "  const cancelPromise = new Promise((resolve) => {\n",
       "    cancel.onclick = () => {\n",
       "      resolve(null);\n",
       "    };\n",
       "  });\n",
       "\n",
       "  // Wait for the user to pick the files.\n",
       "  const files = yield {\n",
       "    promise: Promise.race([pickedPromise, cancelPromise]),\n",
       "    response: {\n",
       "      action: 'starting',\n",
       "    }\n",
       "  };\n",
       "\n",
       "  cancel.remove();\n",
       "\n",
       "  // Disable the input element since further picks are not allowed.\n",
       "  inputElement.disabled = true;\n",
       "\n",
       "  if (!files) {\n",
       "    return {\n",
       "      response: {\n",
       "        action: 'complete',\n",
       "      }\n",
       "    };\n",
       "  }\n",
       "\n",
       "  for (const file of files) {\n",
       "    const li = document.createElement('li');\n",
       "    li.append(span(file.name, {fontWeight: 'bold'}));\n",
       "    li.append(span(\n",
       "        `(${file.type || 'n/a'}) - ${file.size} bytes, ` +\n",
       "        `last modified: ${\n",
       "            file.lastModifiedDate ? file.lastModifiedDate.toLocaleDateString() :\n",
       "                                    'n/a'} - `));\n",
       "    const percent = span('0% done');\n",
       "    li.appendChild(percent);\n",
       "\n",
       "    outputElement.appendChild(li);\n",
       "\n",
       "    const fileDataPromise = new Promise((resolve) => {\n",
       "      const reader = new FileReader();\n",
       "      reader.onload = (e) => {\n",
       "        resolve(e.target.result);\n",
       "      };\n",
       "      reader.readAsArrayBuffer(file);\n",
       "    });\n",
       "    // Wait for the data to be ready.\n",
       "    let fileData = yield {\n",
       "      promise: fileDataPromise,\n",
       "      response: {\n",
       "        action: 'continue',\n",
       "      }\n",
       "    };\n",
       "\n",
       "    // Use a chunked sending to avoid message size limits. See b/62115660.\n",
       "    let position = 0;\n",
       "    do {\n",
       "      const length = Math.min(fileData.byteLength - position, MAX_PAYLOAD_SIZE);\n",
       "      const chunk = new Uint8Array(fileData, position, length);\n",
       "      position += length;\n",
       "\n",
       "      const base64 = btoa(String.fromCharCode.apply(null, chunk));\n",
       "      yield {\n",
       "        response: {\n",
       "          action: 'append',\n",
       "          file: file.name,\n",
       "          data: base64,\n",
       "        },\n",
       "      };\n",
       "\n",
       "      let percentDone = fileData.byteLength === 0 ?\n",
       "          100 :\n",
       "          Math.round((position / fileData.byteLength) * 100);\n",
       "      percent.textContent = `${percentDone}% done`;\n",
       "\n",
       "    } while (position < fileData.byteLength);\n",
       "  }\n",
       "\n",
       "  // All done.\n",
       "  yield {\n",
       "    response: {\n",
       "      action: 'complete',\n",
       "    }\n",
       "  };\n",
       "}\n",
       "\n",
       "scope.google = scope.google || {};\n",
       "scope.google.colab = scope.google.colab || {};\n",
       "scope.google.colab._files = {\n",
       "  _uploadFiles,\n",
       "  _uploadFilesContinue,\n",
       "};\n",
       "})(self);\n",
       "</script> "
      ],
      "text/plain": [
       "<IPython.core.display.HTML object>"
      ]
     },
     "metadata": {},
     "output_type": "display_data"
    },
    {
     "name": "stdout",
     "output_type": "stream",
     "text": [
      "Saving train.csv to train.csv\n"
     ]
    }
   ],
   "source": [
    "from google.colab import files\n",
    "\n",
    "\n",
    "uploaded = files.upload()\n"
   ]
  },
  {
   "cell_type": "code",
   "execution_count": 3,
   "id": "241a965f",
   "metadata": {
    "id": "241a965f"
   },
   "outputs": [],
   "source": [
    "# Import necessary libraries\n",
    "from tensorflow.keras.models import Sequential\n",
    "from tensorflow.keras.layers import LSTM, Dense, Embedding\n",
    "from tensorflow.keras.preprocessing.text import Tokenizer\n",
    "from tensorflow.keras.preprocessing.sequence import pad_sequences\n",
    "from sklearn.preprocessing import LabelEncoder\n",
    "import pandas as pd\n",
    "import nltk\n",
    "from nltk.corpus import stopwords\n",
    "from nltk.tokenize import word_tokenize\n",
    "from nltk.stem import WordNetLemmatizer\n",
    "from sklearn.feature_extraction.text import CountVectorizer, TfidfVectorizer\n",
    "from sklearn.model_selection import train_test_split\n",
    "from sklearn.naive_bayes import MultinomialNB\n",
    "from sklearn.linear_model import LogisticRegression\n",
    "from sklearn.svm import SVC\n",
    "from sklearn.metrics import classification_report, accuracy_score, fbeta_score, confusion_matrix\n",
    "from gensim.models import Word2Vec\n",
    "import numpy as np\n",
    "import matplotlib.pyplot as plt\n",
    "import seaborn as sns"
   ]
  },
  {
   "cell_type": "code",
   "execution_count": 4,
   "id": "7c4634b5",
   "metadata": {
    "colab": {
     "base_uri": "https://localhost:8080/",
     "height": 0
    },
    "id": "7c4634b5",
    "outputId": "e23765e0-4020-477a-c2a3-f7a0ebbdda13"
   },
   "outputs": [
    {
     "name": "stderr",
     "output_type": "stream",
     "text": [
      "[nltk_data] Downloading package punkt to /root/nltk_data...\n",
      "[nltk_data]   Unzipping tokenizers/punkt.zip.\n",
      "[nltk_data] Downloading package stopwords to /root/nltk_data...\n",
      "[nltk_data]   Unzipping corpora/stopwords.zip.\n",
      "[nltk_data] Downloading package wordnet to /root/nltk_data...\n",
      "[nltk_data] Downloading package punkt_tab to /root/nltk_data...\n",
      "[nltk_data]   Unzipping tokenizers/punkt_tab.zip.\n"
     ]
    },
    {
     "data": {
      "text/plain": [
       "True"
      ]
     },
     "execution_count": 4,
     "metadata": {},
     "output_type": "execute_result"
    }
   ],
   "source": [
    "# Download necessary NLTK data\n",
    "nltk.download('punkt')\n",
    "nltk.download('stopwords')\n",
    "nltk.download('wordnet')\n",
    "nltk.download('punkt_tab')"
   ]
  },
  {
   "cell_type": "markdown",
   "id": "9e7d31c6",
   "metadata": {
    "id": "9e7d31c6"
   },
   "source": [
    "Then, loading the training and testing datasets based on the file paths provided to them. These CSV files are read in to DataFrame objects we named train_data and test_data using the pd.read_csv() function from pandas library. This step is imperative to consequently make the data usable in preprocessing and then analysis."
   ]
  },
  {
   "cell_type": "code",
   "execution_count": 9,
   "id": "e861b1fa",
   "metadata": {
    "colab": {
     "base_uri": "https://localhost:8080/",
     "height": 0
    },
    "id": "e861b1fa",
    "outputId": "a8f6d484-e8ac-4fe6-abfe-b0975c1c6ab5"
   },
   "outputs": [
    {
     "name": "stdout",
     "output_type": "stream",
     "text": [
      "Datasets loaded successfully:\n",
      "Training dataset shape: (25000, 2)\n",
      "Testing dataset shape: (25000, 2)\n"
     ]
    }
   ],
   "source": [
    "# Load datasets\n",
    "train_data = pd.read_csv(train_path)\n",
    "test_data = pd.read_csv(test_path)\n",
    "\n",
    "print(\"Datasets loaded successfully:\")\n",
    "print(f\"Training dataset shape: {train_data.shape}\")\n",
    "print(f\"Testing dataset shape: {test_data.shape}\")"
   ]
  },
  {
   "cell_type": "markdown",
   "id": "92a8b364",
   "metadata": {
    "id": "92a8b364"
   },
   "source": [
    "This section of the codedefines a preprocessing function which then is applied to both the training and testing datasets.\n",
    "\n",
    "Preprocessing Function:\n",
    "The function preprocess_text takes a single piece of text as input and performs the following steps:\n",
    "\n",
    "Tokenization:\n",
    "Word_tokenize is used to split each line in to individual tokens (words) and then the text is converted to lower case. This is done to de-casualize the words like 'Good' and 'good'.\n",
    "\n",
    "Removal of Special Characters and Numbers:\n",
    "It removes special characters and numbers from the tokens; only tokens containing only alphabetic characters are kept. It removes noise in data.\n",
    "\n",
    "Stopword Removal:\n",
    "We remove commonly occurring words with little semantic value (e.g. \"is\", \"the\", \"and\") from the English stopword list within the NLTK library. Thus we stay focused on meaningful words.\n",
    "\n",
    "Lemmatization:\n",
    "The WordNetLemmatizer reduces words to their base (or root) form. For example: run <> running. Grouping different forms of the same word is the benefit of this step.\n",
    "\n",
    "Joining Tokens:\n",
    "With that, we join cleaned tokens back into a single string as the preprocessed text."
   ]
  },
  {
   "cell_type": "code",
   "execution_count": 10,
   "id": "89b92a0c",
   "metadata": {
    "colab": {
     "base_uri": "https://localhost:8080/",
     "height": 0
    },
    "id": "89b92a0c",
    "outputId": "2e33ffef-8777-4ae8-925f-4d271a65556b"
   },
   "outputs": [
    {
     "name": "stdout",
     "output_type": "stream",
     "text": [
      "                                                text  \\\n",
      "0  Now, I won't deny that when I purchased this o...   \n",
      "1  The saddest thing about this \"tribute\" is that...   \n",
      "2  Last night I decided to watch the prequel or s...   \n",
      "3  I have to admit that i liked the first half of...   \n",
      "4  I was not impressed about this film especially...   \n",
      "\n",
      "                                      processed_text  \n",
      "0  wo deny purchased ebay high expectation incred...  \n",
      "1  saddest thing tribute almost singer including ...  \n",
      "2  last night decided watch prequel shall say cal...  \n",
      "3  admit liked first half sleeper looked good act...  \n",
      "4  impressed film especially fact went cinema fam...  \n",
      "                                                text  \\\n",
      "0  My daughter liked it but I was aghast, that a ...   \n",
      "1  I... No words. No words can describe this. I w...   \n",
      "2  this film is basically a poor take on the old ...   \n",
      "3  This is a terrible movie, and I'm not even sur...   \n",
      "4  First of all this movie is a piece of reality ...   \n",
      "\n",
      "                                      processed_text  \n",
      "0  daughter liked aghast character movie smoke aw...  \n",
      "1  word word describe try sake brave people stick...  \n",
      "2  film basically poor take old urban legend baby...  \n",
      "3  terrible movie even sure terrible ugly one tre...  \n",
      "4  first movie piece reality well realized artist...  \n"
     ]
    }
   ],
   "source": [
    "# Define a preprocessing function\n",
    "def preprocess_text(text):\n",
    "    # Tokenization\n",
    "    tokens = word_tokenize(text.lower())  # Convert to lowercase\n",
    "    # Remove special characters and numbers\n",
    "    tokens = [word for word in tokens if word.isalpha()]\n",
    "    # Remove stopwords\n",
    "    stop_words = set(stopwords.words('english'))\n",
    "    filtered_tokens = [word for word in tokens if word not in stop_words]\n",
    "    # Lemmatization\n",
    "    lemmatizer = WordNetLemmatizer()\n",
    "    lemmatized_tokens = [lemmatizer.lemmatize(word) for word in filtered_tokens]\n",
    "    return ' '.join(lemmatized_tokens)\n",
    "\n",
    "# Preprocess training data\n",
    "train_data['processed_text'] = train_data['text'].apply(preprocess_text)\n",
    "print(train_data[['text', 'processed_text']].head())\n",
    "\n",
    "# Preprocess testing data\n",
    "test_data['processed_text'] = test_data['text'].apply(preprocess_text)\n",
    "print(test_data[['text', 'processed_text']].head())"
   ]
  },
  {
   "cell_type": "markdown",
   "id": "ea1962bc",
   "metadata": {
    "id": "ea1962bc"
   },
   "source": [
    "In addition, the dataset is split to train and evaluate the model with two different sets of data. The performance on unseen data is critical to be assessed with this approach, and it is a realistic indicator of generalization capabilities of the model.\n",
    "\n",
    "For this implementation, 80% of the training dataset is trained while the last 20% of the testing dataset is used for evaluation, i.e., the model is applied on the testing dataset to report its performance. The model will train on the training set and do not touch the testing set (remember the testing set is usually not seen by the model at all), and it will use the testing set (testing set is an unbiased benchmark of how well the model generalizes to the unseen data)."
   ]
  },
  {
   "cell_type": "code",
   "execution_count": 11,
   "id": "df9d0c0c",
   "metadata": {
    "colab": {
     "base_uri": "https://localhost:8080/",
     "height": 0
    },
    "id": "df9d0c0c",
    "outputId": "45086a70-9349-4351-ebbb-b1a0a410ed65"
   },
   "outputs": [
    {
     "name": "stdout",
     "output_type": "stream",
     "text": [
      "X_train shape: (20000,), y_train shape: (20000,)\n",
      "X_test shape: (5000,), y_test shape: (5000,)\n"
     ]
    }
   ],
   "source": [
    "# Split training data: Use 80% of train.csv for training\n",
    "train_split = int(len(train_data) * 0.8)\n",
    "X_train = train_data['processed_text'][:train_split]\n",
    "y_train = train_data['sentiment'][:train_split]\n",
    "\n",
    "# Split testing data: Use 20% of test.csv for testing\n",
    "X_test = test_data['processed_text'][:len(test_data) // 5]\n",
    "y_test = test_data['sentiment'][:len(test_data) // 5]\n",
    "\n",
    "print(f\"X_train shape: {X_train.shape}, y_train shape: {y_train.shape}\")\n",
    "print(f\"X_test shape: {X_test.shape}, y_test shape: {y_test.shape}\")"
   ]
  },
  {
   "cell_type": "markdown",
   "id": "49a2c8c9",
   "metadata": {
    "id": "49a2c8c9"
   },
   "source": [
    "Here we train a Word2Vec model based on the architecture Continuous Bag of Words (CBoW) to represent words using word embeddings, and the embeddings capture semantic relationships among words. We train our model on tokens reviews from the training dataset, using it to create 100 size vector representation for each word on it vocabulary. For the training and testing datasets we use these embeddings to create feature vectors for each review just by averaging the word embeddings of each review. The process guarantees that the input features of the machine learning model are enriched with semantic information which improves sentiment classification processes."
   ]
  },
  {
   "cell_type": "code",
   "execution_count": 12,
   "id": "450bf2b1",
   "metadata": {
    "colab": {
     "base_uri": "https://localhost:8080/",
     "height": 0
    },
    "id": "450bf2b1",
    "outputId": "276dd4e6-86e0-4233-e035-02a560362540"
   },
   "outputs": [
    {
     "name": "stdout",
     "output_type": "stream",
     "text": [
      "\n",
      "Training Word2Vec (CBoW) model...\n",
      "Vocabulary size: 58342\n",
      "\n",
      "Creating Word Vectors for X_train...\n",
      "X_train_word_vector shape: (20000, 100)\n",
      "\n",
      "Creating Word Vectors for X_test...\n",
      "X_test_word_vector shape: (5000, 100)\n"
     ]
    }
   ],
   "source": [
    "# Train the Word2Vec model (CBoW)\n",
    "print(\"\\nTraining Word2Vec (CBoW) model...\")\n",
    "tokenized_reviews = [word_tokenize(review) for review in X_train]\n",
    "cbow_model = Word2Vec(sentences=tokenized_reviews, vector_size=100, window=5, min_count=1, workers=4, sg=0)  # sg=0 for CBoW\n",
    "\n",
    "# Print the size of the vocabulary\n",
    "print(f\"Vocabulary size: {len(cbow_model.wv)}\")\n",
    "\n",
    "# Create Word Vectors for X_train\n",
    "print(\"\\nCreating Word Vectors for X_train...\")\n",
    "X_train_word_vector = np.array([\n",
    "    np.mean([cbow_model.wv[word] for word in review if word in cbow_model.wv], axis=0)\n",
    "    if any(word in cbow_model.wv for word in review) else np.zeros(100)\n",
    "    for review in tokenized_reviews\n",
    "])\n",
    "print(f\"X_train_word_vector shape: {X_train_word_vector.shape}\")\n",
    "\n",
    "# Create Word Vectors for X_test\n",
    "print(\"\\nCreating Word Vectors for X_test...\")\n",
    "X_test_word_vector = np.zeros((len(X_test), 100))\n",
    "for i, review in enumerate(X_test):\n",
    "    word_vectors = [cbow_model.wv[word] for word in review.split() if word in cbow_model.wv]\n",
    "    if word_vectors:\n",
    "        X_test_word_vector[i] = np.mean(word_vectors, axis=0)\n",
    "print(f\"X_test_word_vector shape: {X_test_word_vector.shape}\")"
   ]
  },
  {
   "cell_type": "markdown",
   "id": "b3b95b27",
   "metadata": {
    "id": "b3b95b27"
   },
   "source": [
    "### 2.2. Baseline performance"
   ]
  },
  {
   "cell_type": "markdown",
   "id": "ViCic_9j6x6V",
   "metadata": {
    "id": "ViCic_9j6x6V"
   },
   "source": [
    "In this section, we use a Multinomial Naive Bayes classifier as a baseline over a sentiment classifier. Then, we transform training data to represent them as TF-IDF (Term Frequency-Inverse Document Frequency) features, and the model is trained on such transformed training data. Metrics like accuracy, F1sore, and F2 score are computed for the performance of the model on the test set."
   ]
  },
  {
   "cell_type": "code",
   "execution_count": 13,
   "id": "f633d650",
   "metadata": {
    "colab": {
     "base_uri": "https://localhost:8080/",
     "height": 0
    },
    "id": "f633d650",
    "outputId": "af557384-4de2-4613-b194-12db9311baab"
   },
   "outputs": [
    {
     "name": "stdout",
     "output_type": "stream",
     "text": [
      "\n",
      "Baseline: Naive Bayes Classifier with TF-IDF\n",
      "Naive Bayes with TF-IDF Performance:\n",
      "              precision    recall  f1-score   support\n",
      "\n",
      "         neg       0.80      0.88      0.84      2491\n",
      "         pos       0.87      0.79      0.82      2509\n",
      "\n",
      "    accuracy                           0.83      5000\n",
      "   macro avg       0.83      0.83      0.83      5000\n",
      "weighted avg       0.83      0.83      0.83      5000\n",
      "\n",
      "Accuracy: 0.8314\n",
      "F2-Score: 0.8308412486517655\n"
     ]
    }
   ],
   "source": [
    "# Baseline: Naive Bayes Classifier with TF-IDF\n",
    "print(\"\\nBaseline: Naive Bayes Classifier with TF-IDF\")\n",
    "tfidf_vectorizer = TfidfVectorizer()\n",
    "X_train_tfidf = tfidf_vectorizer.fit_transform(X_train)\n",
    "X_test_tfidf = tfidf_vectorizer.transform(X_test)\n",
    "\n",
    "# Initialize and train the Naive Bayes model\n",
    "nb_tfidf_model = MultinomialNB()\n",
    "nb_tfidf_model.fit(X_train_tfidf, y_train)\n",
    "\n",
    "# Make predictions on the test set\n",
    "nb_tfidf_predictions = nb_tfidf_model.predict(X_test_tfidf)\n",
    "\n",
    "# Print the performance of the model\n",
    "print(\"Naive Bayes with TF-IDF Performance:\")\n",
    "print(classification_report(y_test, nb_tfidf_predictions))\n",
    "print(\"Accuracy:\", accuracy_score(y_test, nb_tfidf_predictions))\n",
    "print(\"F2-Score:\", fbeta_score(y_test, nb_tfidf_predictions, beta=2, average='weighted'))\n"
   ]
  },
  {
   "cell_type": "markdown",
   "id": "BZpfXprjKLk6",
   "metadata": {
    "id": "BZpfXprjKLk6"
   },
   "source": [
    "The applied Naive Bayes model operates with 83.14% of accuracy and F2 score of 0.83, that defines rather high effectiveness for the chosen dataset.\n",
    "\n",
    "Relative to such models as Logistic Regression with Word2Vec embeddings, the LSTM-based deep learning models, Naive Bayes classifier also proves to be rather efficient in terms of its simplicity and performance. But it has a severe limitation in capturing contextual or sequential information in the text, for which the embedding-based and neural network-based implementation are more suitable. For instance, even though the model Logistic Regression with Word2Vec performs nearly as well as the other models, it uses pre-trained vectors to recognize the relational semantics more naturally. A further enhancement of performance is provided through LSTM since, even though their learning process considers the dynamic embedding learning and the dependence on persistent values, their application has a higher computational complexity."
   ]
  },
  {
   "cell_type": "markdown",
   "id": "ae9539ed",
   "metadata": {
    "id": "ae9539ed"
   },
   "source": [
    "### 2.3. Comparative classification approach"
   ]
  },
  {
   "cell_type": "markdown",
   "id": "c6cf5fa0",
   "metadata": {
    "id": "c6cf5fa0"
   },
   "source": [
    "In this section I applied Logistic Regression using Word2Vec features for sentiment classification. It learns dense word representations which words at the same distance in the vector space will tend to be similar to each other. These vectors capture contextuality as well as semantic relationships between words. The model is evaluated in terms of accuracy, F1 score and F2 score to show that using Word2Vec embeddings is helpful to the statistical text classification model."
   ]
  },
  {
   "cell_type": "code",
   "execution_count": 14,
   "id": "ccfa17d4",
   "metadata": {
    "colab": {
     "base_uri": "https://localhost:8080/",
     "height": 0
    },
    "id": "ccfa17d4",
    "outputId": "40d6b79c-3cf9-45e1-8de4-07dae569bd38"
   },
   "outputs": [
    {
     "name": "stdout",
     "output_type": "stream",
     "text": [
      "\n",
      "Statistical Model: Logistic Regression with Word2Vec\n",
      "Logistic Regression with Word2Vec Performance:\n",
      "              precision    recall  f1-score   support\n",
      "\n",
      "         neg       0.82      0.82      0.82      2491\n",
      "         pos       0.82      0.82      0.82      2509\n",
      "\n",
      "    accuracy                           0.82      5000\n",
      "   macro avg       0.82      0.82      0.82      5000\n",
      "weighted avg       0.82      0.82      0.82      5000\n",
      "\n",
      "Accuracy: 0.8222\n",
      "F2-Score: 0.8221986693460469\n"
     ]
    }
   ],
   "source": [
    "# Statistical Model: Logistic Regression with Word2Vec\n",
    "print(\"\\nStatistical Model: Logistic Regression with Word2Vec\")\n",
    "log_reg_model = LogisticRegression(max_iter=500)\n",
    "log_reg_model.fit(X_train_word_vector, y_train)  # Use Word2Vec vectors for training\n",
    "log_reg_predictions = log_reg_model.predict(X_test_word_vector)  # Use Word2Vec vectors for testing\n",
    "\n",
    "# Print the performance of the model\n",
    "print(\"Logistic Regression with Word2Vec Performance:\")\n",
    "print(classification_report(y_test, log_reg_predictions))\n",
    "print(\"Accuracy:\", accuracy_score(y_test, log_reg_predictions))\n",
    "print(\"F2-Score:\", fbeta_score(y_test, log_reg_predictions, beta=2, average='weighted'))\n"
   ]
  },
  {
   "cell_type": "markdown",
   "id": "cfd876f5",
   "metadata": {
    "id": "cfd876f5"
   },
   "source": [
    "This section shows a deep learning model to perform sentiment classification with Long Short Term Memory (LSTM). In comparison to standard machine learning model like SVM with RBF kernel, as an LSTM model makes use of sequential information and identifies semantic relationship as well as contextual subtleties among words. Input features of the LSTM model are taken out of text sequences which are tokenized, and then represented via the word embeddings.\n",
    "\n",
    "The LSTM network is trained using padded sequences of tokens from tokenized text using the Adam optimizer. The model is then trained, which then predicts sentiment on a test set, and there are standard classification metrics used to assess the performance of the model (accuracy, F1 score and F2 score).\n"
   ]
  },
  {
   "cell_type": "code",
   "execution_count": 15,
   "id": "BmcLjJ_H2og2",
   "metadata": {
    "colab": {
     "base_uri": "https://localhost:8080/",
     "height": 0
    },
    "id": "BmcLjJ_H2og2",
    "outputId": "c1c03d14-ebc1-4539-bb2c-c0c2c65d4abb"
   },
   "outputs": [
    {
     "name": "stdout",
     "output_type": "stream",
     "text": [
      "Epoch 1/10\n"
     ]
    },
    {
     "name": "stderr",
     "output_type": "stream",
     "text": [
      "/usr/local/lib/python3.10/dist-packages/keras/src/layers/core/embedding.py:90: UserWarning: Argument `input_length` is deprecated. Just remove it.\n",
      "  warnings.warn(\n"
     ]
    },
    {
     "name": "stdout",
     "output_type": "stream",
     "text": [
      "\u001b[1m500/500\u001b[0m \u001b[32m━━━━━━━━━━━━━━━━━━━━\u001b[0m\u001b[37m\u001b[0m \u001b[1m148s\u001b[0m 289ms/step - accuracy: 0.5753 - loss: 0.6676 - val_accuracy: 0.6260 - val_loss: 0.6476\n",
      "Epoch 2/10\n",
      "\u001b[1m500/500\u001b[0m \u001b[32m━━━━━━━━━━━━━━━━━━━━\u001b[0m\u001b[37m\u001b[0m \u001b[1m198s\u001b[0m 281ms/step - accuracy: 0.7595 - loss: 0.5196 - val_accuracy: 0.7735 - val_loss: 0.5589\n",
      "Epoch 3/10\n",
      "\u001b[1m500/500\u001b[0m \u001b[32m━━━━━━━━━━━━━━━━━━━━\u001b[0m\u001b[37m\u001b[0m \u001b[1m129s\u001b[0m 254ms/step - accuracy: 0.8674 - loss: 0.3347 - val_accuracy: 0.8185 - val_loss: 0.4194\n",
      "Epoch 4/10\n",
      "\u001b[1m500/500\u001b[0m \u001b[32m━━━━━━━━━━━━━━━━━━━━\u001b[0m\u001b[37m\u001b[0m \u001b[1m146s\u001b[0m 263ms/step - accuracy: 0.9267 - loss: 0.2087 - val_accuracy: 0.8468 - val_loss: 0.3894\n",
      "Epoch 5/10\n",
      "\u001b[1m500/500\u001b[0m \u001b[32m━━━━━━━━━━━━━━━━━━━━\u001b[0m\u001b[37m\u001b[0m \u001b[1m136s\u001b[0m 252ms/step - accuracy: 0.9700 - loss: 0.1013 - val_accuracy: 0.8553 - val_loss: 0.4359\n",
      "Epoch 6/10\n",
      "\u001b[1m500/500\u001b[0m \u001b[32m━━━━━━━━━━━━━━━━━━━━\u001b[0m\u001b[37m\u001b[0m \u001b[1m147s\u001b[0m 262ms/step - accuracy: 0.9872 - loss: 0.0495 - val_accuracy: 0.8500 - val_loss: 0.5025\n",
      "Epoch 7/10\n",
      "\u001b[1m500/500\u001b[0m \u001b[32m━━━━━━━━━━━━━━━━━━━━\u001b[0m\u001b[37m\u001b[0m \u001b[1m137s\u001b[0m 251ms/step - accuracy: 0.9923 - loss: 0.0312 - val_accuracy: 0.8475 - val_loss: 0.5874\n",
      "Epoch 8/10\n",
      "\u001b[1m500/500\u001b[0m \u001b[32m━━━━━━━━━━━━━━━━━━━━\u001b[0m\u001b[37m\u001b[0m \u001b[1m142s\u001b[0m 253ms/step - accuracy: 0.9959 - loss: 0.0208 - val_accuracy: 0.8468 - val_loss: 0.6542\n",
      "Epoch 9/10\n",
      "\u001b[1m500/500\u001b[0m \u001b[32m━━━━━━━━━━━━━━━━━━━━\u001b[0m\u001b[37m\u001b[0m \u001b[1m144s\u001b[0m 256ms/step - accuracy: 0.9939 - loss: 0.0251 - val_accuracy: 0.8360 - val_loss: 0.7763\n",
      "Epoch 10/10\n",
      "\u001b[1m500/500\u001b[0m \u001b[32m━━━━━━━━━━━━━━━━━━━━\u001b[0m\u001b[37m\u001b[0m \u001b[1m139s\u001b[0m 250ms/step - accuracy: 0.9980 - loss: 0.0126 - val_accuracy: 0.8495 - val_loss: 0.7399\n",
      "\u001b[1m157/157\u001b[0m \u001b[32m━━━━━━━━━━━━━━━━━━━━\u001b[0m\u001b[37m\u001b[0m \u001b[1m11s\u001b[0m 67ms/step\n",
      "Deep Learning (LSTM) Performance:\n",
      "              precision    recall  f1-score   support\n",
      "\n",
      "         0.0       0.83      0.82      0.82      2491\n",
      "         1.0       0.82      0.83      0.83      2509\n",
      "\n",
      "    accuracy                           0.83      5000\n",
      "   macro avg       0.83      0.83      0.83      5000\n",
      "weighted avg       0.83      0.83      0.83      5000\n",
      "\n",
      "F2 Score: 0.8311\n"
     ]
    }
   ],
   "source": [
    "# Encode labels\n",
    "encoder = LabelEncoder()\n",
    "# Convert string labels to integer labels for the training set\n",
    "y_train = encoder.fit_transform(y_train)\n",
    "# Transform test labels using the same encoding\n",
    "y_test = encoder.transform(y_test)\n",
    "\n",
    "# Ensure labels are floats\n",
    "y_train = y_train.astype(\"float32\")\n",
    "y_test = y_test.astype(\"float32\")\n",
    "\n",
    "# Tokenize and pad sequences\n",
    "tokenizer = Tokenizer()\n",
    "tokenizer.fit_on_texts(X_train)\n",
    " # Calculate vocabulary size (add 1 for padding/indexing)\n",
    "vocab_size = len(tokenizer.word_index) + 1\n",
    "\n",
    "# Maximum sequence length; truncate/pad longer/shorter sequences\n",
    "max_length = 100\n",
    "# Convert text data to sequences of integers\n",
    "X_train_sequences = tokenizer.texts_to_sequences(X_train)\n",
    "# Pad sequences to the same length\n",
    "X_train_padded = pad_sequences(X_train_sequences, maxlen=max_length, padding='post')\n",
    "\n",
    "# Convert test text data to sequences\n",
    "X_test_sequences = tokenizer.texts_to_sequences(X_test)\n",
    "# Pad test sequences\n",
    "X_test_padded = pad_sequences(X_test_sequences, maxlen=max_length, padding='post')\n",
    "\n",
    "# Build the model\n",
    "model = Sequential()\n",
    "# Embedding layer to learn word embeddings\n",
    "model.add(Embedding(input_dim=vocab_size, output_dim=100, input_length=max_length))\n",
    "# LSTM layer with 128 units, outputting the last hidden state\n",
    "model.add(LSTM(128, return_sequences=False))\n",
    "# Dense layer for binary classification with a sigmoid activation\n",
    "model.add(Dense(1, activation='sigmoid'))\n",
    "\n",
    "# Compile the model with Adam optimizer and binary cross-entropy loss\n",
    "model.compile(optimizer='adam', loss='binary_crossentropy', metrics=['accuracy'])\n",
    "\n",
    "# Train the model\n",
    "model.fit(X_train_padded, y_train, epochs=10, batch_size=32, validation_split=0.2)\n",
    "\n",
    "# Evaluate the model\n",
    "# Predict on the test set and threshold predictions at 0.5\n",
    "predictions = (model.predict(X_test_padded) > 0.5).astype(\"int32\")\n",
    "print(\"Deep Learning (LSTM) Performance:\")\n",
    "print(classification_report(y_test, predictions))\n",
    "\n",
    "# Calculate and print the F2-score\n",
    "f2 = fbeta_score(y_test, predictions, beta=2, average='binary')\n",
    "print(f\"F2 Score: {f2:.4f}\")"
   ]
  },
  {
   "cell_type": "markdown",
   "id": "76906a47",
   "metadata": {
    "id": "76906a47"
   },
   "source": [
    "The training of the Logistic Regression model was fairly fast hence will be suitable to use where simplicity and time efficiency is desirable. Despite this, it benefitted from pre-trained Word2Vec embedding where it offered a semantic context but was rigid in relation to the dataset.\n",
    "\n",
    "However, LSTM model extracted more contextual and sequential information during the process of dynamic embedding. This adaptability paid off in terms of slightly higher average performance but at the same time increased enormously the computational load and the risk of overfitting the models.\n",
    "\n",
    "Both comparative results reveal a trade-off between the computational cost of the algorithm and the degrees of freedom of the model in question. Compared to other methods, Logistic Regression with Word2Vec is a much easier and quicker solution for datasets with clear sentiment profiles. On the other hand, LSTM model performs best when the deeper contextual information is required given if enough of regularization and hyperparameters have been tuned to avoid the effect of overfitting.\n",
    "\n",
    "This work offers an insightful angle by comparing the results of both models and provides new promising directions for future application of sentiment analysis models based on statistical machine learning and deep learning methodologies."
   ]
  },
  {
   "cell_type": "markdown",
   "id": "5257d6a0",
   "metadata": {
    "id": "5257d6a0"
   },
   "source": [
    "## 3. Conclusions"
   ]
  },
  {
   "cell_type": "markdown",
   "id": "5879b584",
   "metadata": {
    "id": "5879b584"
   },
   "source": [
    "### 3.1. Performance analysis and comparatuve discussion"
   ]
  },
  {
   "cell_type": "markdown",
   "id": "b918beb7",
   "metadata": {
    "id": "b918beb7"
   },
   "source": [
    "To evaluate the sentiment classification models, metrics such as accuracy, F1-score, and F2-score were used to assess performance across three approaches: I used naive Bayes with TF-IDF, Logistic Regression with Word2Vec embeddings, a Deep Learning base LSTM model. The strengths and weaknesses of each model were analyzed qualitatively and quantitatively.\n",
    "\n",
    "#### Model Performance Comparison\n",
    "With TF-IDF, we obtained an accuracy of 83.1% and an F2 score of 0.8308 using Naive Bayes. Overall, its performance on the sparse high dimensional data was good as shown by the precision of both the positive and the negative classes. However, it had a hard time grabbing on to textured and non linear relationships in the text data. Naive Bayes performed poorly in the confusion matrix when it over predicted some classes because of its strong independence assumptions, which make it a poor contextual agent.\n",
    "\n",
    "The Word2Vec embeddings with a Logistic Regression yielded the accuracy of 82.2% and an F2 score of 0.8222. Unsurprisingly, it slightly underperformed Naive Bayes in terms of accuracy but was balanced across positive and negative classes. This worked because it used Word2Vec embeddings which helped it to preserve sense relationships between words and improve its review classification performance. Nevertheless, it wrestled with dealing with finer contextual nuances, and its linear nature also constrained its use of the embeddings to the full extent.\n",
    "\n",
    "Naive Bayes has an accuracy of 83%, and an F2 user score of 0.8311, both of which are matched by LSTM (Deep Learning) with an accuracy of 83; this performs second to Naive Bayes overall but excels in contextual understanding. For which are nuanced and complex reviews, the LSTM model was very effective using sequential data and learned long term dependencies. Nevertheless, training times for the model were orders of magnitude longer than for the other models. Moreover, it was over fitting sensitive and tended to plateau on performance due to the need of careful tuning of its hyper parameters (e.g., sequence length, embedding dimensions).\n",
    "\n",
    "#### Strengths and Weaknesses\n",
    "Naive Bayes: Fast for sparse data and highly effective, but cannot model non-linear relationships and context persistence.\n",
    "\n",
    "Logistic Regression: They are consistent and interpretable for well defined linear datasets but hinder the fullest degree power of word embeddings.\n",
    "\n",
    "LSTM: Computationally expensive and sensitive to hyperparameter tuning, superior at capturing sequential and contextual nuances.\n",
    "\n",
    "#### Scenarios and Hypotheses\n",
    "\n",
    "Naive Bayes is the choice for building algorithms for large datasets with sparse high dimensional features, where computational efficiency is paramount. If an optimisation problem is linear, and can benefit from embeddings for semantic understanding without sequential modeling, Logistic Regression is used as it is a good way to perform linear problems. LSTM shines in the case of tasks that require deep contextual understanding, e.g. reviews with fine grained sentiment shift.\n",
    "\n",
    "There may also be performance disparities from how models use features. Unlike Logistic regression, naive bayes uses term frequency, not considering context, while Logistic regression considers semantic relations. LSTM, utilizing the sequential learning properties, is very suitable for the reviews in which review's structure and word order matter a lot in sentiment classification.\n",
    "\n",
    "This analysis shows that none of these models is absolutely correct, it depends on dataset complexity and task requirements."
   ]
  },
  {
   "cell_type": "code",
   "execution_count": 22,
   "id": "d1afbd1c",
   "metadata": {
    "colab": {
     "base_uri": "https://localhost:8080/",
     "height": 3385
    },
    "id": "d1afbd1c",
    "outputId": "760e0207-445f-4ac4-d9ce-609876896bb3",
    "scrolled": false
   },
   "outputs": [
    {
     "name": "stderr",
     "output_type": "stream",
     "text": [
      "<ipython-input-22-b8819061d915>:4: FutureWarning: \n",
      "\n",
      "Passing `palette` without assigning `hue` is deprecated and will be removed in v0.14.0. Assign the `x` variable to `hue` and set `legend=False` for the same effect.\n",
      "\n",
      "  sns.barplot(x=models, y=metric_values, palette=\"viridis\")\n"
     ]
    },
    {
     "data": {
      "image/png": "[encoded data removed]",
      "text/plain": [
       "<Figure size 800x500 with 1 Axes>"
      ]
     },
     "metadata": {},
     "output_type": "display_data"
    },
    {
     "name": "stderr",
     "output_type": "stream",
     "text": [
      "<ipython-input-22-b8819061d915>:4: FutureWarning: \n",
      "\n",
      "Passing `palette` without assigning `hue` is deprecated and will be removed in v0.14.0. Assign the `x` variable to `hue` and set `legend=False` for the same effect.\n",
      "\n",
      "  sns.barplot(x=models, y=metric_values, palette=\"viridis\")\n"
     ]
    },
    {
     "data": {
      "image/png": "[encoded data removed]",
      "text/plain": [
       "<Figure size 800x500 with 1 Axes>"
      ]
     },
     "metadata": {},
     "output_type": "display_data"
    },
    {
     "data": {
      "image/png": "[encoded data removed]",
      "text/plain": [
       "<Figure size 1000x600 with 1 Axes>"
      ]
     },
     "metadata": {},
     "output_type": "display_data"
    },
    {
     "data": {
      "image/png": "[encoded data removed]",
      "text/plain": [
       "<Figure size 1000x600 with 1 Axes>"
      ]
     },
     "metadata": {},
     "output_type": "display_data"
    },
    {
     "name": "stdout",
     "output_type": "stream",
     "text": [
      "\n",
      "Comparing Model Performance with Visualizations...\n"
     ]
    },
    {
     "data": {
      "image/png": "[encoded data removed]",
      "text/plain": [
       "<Figure size 600x500 with 2 Axes>"
      ]
     },
     "metadata": {},
     "output_type": "display_data"
    },
    {
     "data": {
      "image/png": "[encoded data removed]",
      "text/plain": [
       "<Figure size 600x500 with 2 Axes>"
      ]
     },
     "metadata": {},
     "output_type": "display_data"
    },
    {
     "data": {
      "image/png": "[encoded data removed]",
      "text/plain": [
       "<Figure size 600x500 with 2 Axes>"
      ]
     },
     "metadata": {},
     "output_type": "display_data"
    }
   ],
   "source": [
    "# Accuracy and F2-Score Comparison\n",
    "def plot_metric_comparison(models, metric_values, metric_name):\n",
    "    plt.figure(figsize=(8, 5))\n",
    "    sns.barplot(x=models, y=metric_values, palette=\"viridis\")\n",
    "    plt.title(f\"{metric_name} Comparison\")\n",
    "    plt.xlabel(\"Models\")\n",
    "    plt.ylabel(metric_name)\n",
    "    plt.ylim(0, 1)\n",
    "    for i, value in enumerate(metric_values):\n",
    "        plt.text(i, value + 0.02, f\"{value:.2f}\", ha='center')\n",
    "    plt.show()\n",
    "\n",
    "# Convert true labels to string for comparison (if needed)\n",
    "y_test_strings = encoder.inverse_transform(y_test.astype(\"int32\"))  # Convert to \"neg\", \"pos\"\n",
    "\n",
    "# Convert predictions to numeric labels consistently\n",
    "nb_tfidf_predictions_num = encoder.transform(nb_tfidf_predictions)  # Ensure numeric predictions\n",
    "log_reg_predictions_num = encoder.transform(log_reg_predictions)\n",
    "# Changed line: Transform LSTM prediction using encoder\n",
    "predictions_num = encoder.transform([\"neg\" if pred == 0 else \"pos\" for pred in predictions.flatten()])\n",
    "\n",
    "# Model names and their metrics\n",
    "models = [\"Naive Bayes (TF-IDF)\", \"Logistic Regression (Word2Vec)\", \"LSTM\"]\n",
    "accuracies = [\n",
    "    accuracy_score(y_test, nb_tfidf_predictions_num),  # Use numeric predictions\n",
    "    accuracy_score(y_test, log_reg_predictions_num),  # Use numeric predictions\n",
    "    accuracy_score(y_test, predictions_num)          # Use numeric predictions\n",
    "]\n",
    "f2_scores = [\n",
    "    fbeta_score(y_test, nb_tfidf_predictions_num, beta=2, average='weighted'),  # Use numeric predictions\n",
    "    fbeta_score(y_test, log_reg_predictions_num, beta=2, average='weighted'),  # Use numeric predictions\n",
    "    fbeta_score(y_test, predictions_num, beta=2, average='weighted')           # Use numeric predictions\n",
    "]\n",
    "\n",
    "# Plot Accuracy Comparison\n",
    "plot_metric_comparison(models, accuracies, \"Accuracy\")\n",
    "\n",
    "# Plot F2-Score Comparison\n",
    "plot_metric_comparison(models, f2_scores, \"F2-Score\")\n",
    "\n",
    "# Precision and Recall per Class\n",
    "def plot_precision_recall(models, reports, class_label):\n",
    "    # Change 'neg' and 'pos' to '0.0' and '1.0'\n",
    "    class_label = '0.0' if class_label == 'neg' else '1.0'\n",
    "    precisions = [report[class_label][\"precision\"] for report in reports]\n",
    "    recalls = [report[class_label][\"recall\"] for report in reports]\n",
    "\n",
    "    x = np.arange(len(models))\n",
    "    width = 0.35\n",
    "\n",
    "    plt.figure(figsize=(10, 6))\n",
    "    plt.bar(x - width/2, precisions, width, label='Precision', color='skyblue')\n",
    "    plt.bar(x + width/2, recalls, width, label='Recall', color='salmon')\n",
    "    plt.title(f\"Precision and Recall for '{class_label}' Class\")\n",
    "    plt.xticks(x, models)\n",
    "    plt.xlabel(\"Models\")\n",
    "    plt.ylabel(\"Scores\")\n",
    "    plt.ylim(0, 1)\n",
    "    plt.legend()\n",
    "    plt.show()\n",
    "\n",
    "# Classification reports\n",
    "nb_tfidf_report = classification_report(y_test, nb_tfidf_predictions_num, output_dict=True)\n",
    "log_reg_report = classification_report(y_test, log_reg_predictions_num, output_dict=True)\n",
    "lstm_report = classification_report(y_test, predictions, output_dict=True)\n",
    "\n",
    "\n",
    "# Plot Precision and Recall for 'neg' class\n",
    "plot_precision_recall(models, [nb_tfidf_report, log_reg_report, lstm_report], \"neg\")\n",
    "\n",
    "# Plot Precision and Recall for 'pos' class\n",
    "plot_precision_recall(models, [nb_tfidf_report, log_reg_report, lstm_report], \"pos\")\n",
    "\n",
    "# Visualization for Comparative Analysis\n",
    "print(\"\\nComparing Model Performance with Visualizations...\")\n",
    "def plot_confusion_matrix(y_true, y_pred, title):\n",
    "    # Convert string labels in y_pred to numeric if needed\n",
    "    if isinstance(y_pred[0], str):  # Check if elements are strings\n",
    "        y_pred = encoder.transform(y_pred)  # Transform to numeric labels\n",
    "\n",
    "    cm = confusion_matrix(y_true, y_pred, labels=[0, 1])\n",
    "    plt.figure(figsize=(6, 5))\n",
    "    sns.heatmap(cm, annot=True, fmt='d', cmap='Blues', xticklabels=['neg', 'pos'], yticklabels=['neg', 'pos'])\n",
    "    plt.title(title)\n",
    "    plt.xlabel(\"Predicted\")\n",
    "    plt.ylabel(\"Actual\")\n",
    "    plt.show()\n",
    "\n",
    "# Plot confusion matrices\n",
    "plot_confusion_matrix(y_test, nb_tfidf_predictions, \"Naive Bayes Confusion Matrix\")\n",
    "plot_confusion_matrix(y_test, log_reg_predictions, \"Logistic Regression Confusion Matrix\")\n",
    "plot_confusion_matrix(y_test, predictions, \"LSTM Confusion Matrix\")\n"
   ]
  },
  {
   "cell_type": "markdown",
   "id": "c7f21ae3",
   "metadata": {
    "id": "c7f21ae3"
   },
   "source": [
    "### 3.2. Project summary and reflections"
   ]
  },
  {
   "cell_type": "markdown",
   "id": "8b39b422",
   "metadata": {
    "id": "8b39b422"
   },
   "source": [
    "This project confirmed the notion of trade offs between statistical and embedding based models in the sentiment classification domain. We explored a variety of approaches using Naive Bayes with TF-IDF, Logistic Regression with Word2Vec embeddings, and an LSTM model, drawing from each to maximize its strengths individually. Logistic Regression was found to be a balanced and practical solution to linear sentiment tasks and LSTM presented its strength in capturing sequential relationships and contextual nuances. However, for sparse data, Naive Bayes turned out to be efficient, while for complex patterns it could not be optimized well, stressing the need for a proper choice of a model fitting to the task needs and the characteristics of the dataset.\n",
    "\n",
    "These models have practical implications in real world applications, including customer feedback analysis, sentiment monitoring in social media and product reviews. Naive Bayes and other statistical models work well for large datasets where we crave fast, interpretable results, whereas embedding based methods are very good at semantic understanding or even slight sentiment shifts. For example, LSTM models could process very specific customer reviews where a word order or a context can make huge difference in meaning.\n",
    "\n",
    "Through this project, we realized that the correctness of any model is bound by the structure of the data as well as its complexity. Although more nuanced predictions were demonstrated using embedding based methods, these methods were computationally expensive and required hyperparameter tuning. It shows how to trade off computational feasibility with performance goals.\n",
    "\n",
    "As a future work, advanced embedding techniques such as pre trained models (e.g., BERT or GPT) or transformer based architecture may also improve performance leveraging contextual embeddings. Finally considering ensemble methods which combine the strengths of statistical and deep learning models might increase classification accuracy. We also would like to refine hyperparameter optimization for embedding based models and try various domain specific pre-trained embeddings to see if results are better.\n",
    "\n",
    "This project is promising to be transferable to other domains. While our focus was on performing sentiment analysis in movie reviews — similar methodologies can be applied to health care (e.g. patient feedback analysis), finance (customer sentiment about products) or education (student reviews of courses). Yet the success will depend heavily on tailoring of pre processing and embedding techniques to the target domain."
   ]
  },
  {
   "cell_type": "markdown",
   "id": "7a522ddc",
   "metadata": {
    "id": "7a522ddc"
   },
   "source": [
    "## Refrences"
   ]
  },
  {
   "cell_type": "markdown",
   "id": "feba81a7",
   "metadata": {
    "id": "feba81a7"
   },
   "source": [
    "1. https://www.science-gate.com/IJAAS/2024/V11I8/1021833ijaas202408016.html?\n",
    "2. https://link.springer.com/article/10.1007/s00521-023-08359-6?\n",
    "3. https://link.springer.com/article/10.1007/s10115-023-01856-z?\n",
    "4. https://www.geeksforgeeks.org/deep-learning-introduction-to-long-short-term-memory/\n",
    "5. https://keras.io/api/layers/recurrent_layers/lstm/\n",
    "6. https://www.geeksforgeeks.org/python-word-embedding-using-word2vec/\n",
    "7. https://scikit-learn.org/1.5/modules/generated/sklearn.feature_extraction.text.TfidfVectorizer.html"
   ]
  },
  {
   "cell_type": "code",
   "execution_count": null,
   "id": "e11f3fe3",
   "metadata": {
    "id": "e11f3fe3"
   },
   "outputs": [],
   "source": []
  }
 ],
 "metadata": {
  "colab": {
   "provenance": []
  },
  "kernelspec": {
   "display_name": "Python 3 (ipykernel)",
   "language": "python",
   "name": "python3"
  },
  "language_info": {
   "codemirror_mode": {
    "name": "ipython",
    "version": 3
   },
   "file_extension": ".py",
   "mimetype": "text/x-python",
   "name": "python",
   "nbconvert_exporter": "python",
   "pygments_lexer": "ipython3",
   "version": "3.11.5"
  }
 },
 "nbformat": 4,
 "nbformat_minor": 5
}
